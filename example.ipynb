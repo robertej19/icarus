{
  "nbformat": 4,
  "nbformat_minor": 0,
  "metadata": {
    "colab": {
      "name": "example.ipynb",
      "provenance": [],
      "authorship_tag": "ABX9TyO2Y6oZ5KceAh8vaAPVZCuy",
      "include_colab_link": true
    },
    "kernelspec": {
      "name": "python3",
      "display_name": "Python 3"
    },
    "language_info": {
      "name": "python"
    }
  },
  "cells": [
    {
      "cell_type": "markdown",
      "metadata": {
        "id": "view-in-github",
        "colab_type": "text"
      },
      "source": [
        "<a href=\"https://colab.research.google.com/github/robertej19/icarus/blob/main/example.ipynb\" target=\"_parent\"><img src=\"https://colab.research.google.com/assets/colab-badge.svg\" alt=\"Open In Colab\"/></a>"
      ]
    },
    {
      "cell_type": "code",
      "metadata": {
        "colab": {
          "base_uri": "https://localhost:8080/"
        },
        "id": "Sfg_6fekOqI0",
        "outputId": "da5e976b-3ed4-4632-a2c0-c1025d3ef66f"
      },
      "source": [
        "!pip install feedparser\n",
        "\n",
        "import feedparser\n",
        "import geopy.distance"
      ],
      "execution_count": 3,
      "outputs": [
        {
          "output_type": "stream",
          "name": "stdout",
          "text": [
            "Collecting feedparser\n",
            "  Downloading feedparser-6.0.8-py3-none-any.whl (81 kB)\n",
            "\u001b[?25l\r\u001b[K     |████                            | 10 kB 21.5 MB/s eta 0:00:01\r\u001b[K     |████████                        | 20 kB 27.9 MB/s eta 0:00:01\r\u001b[K     |████████████▏                   | 30 kB 11.5 MB/s eta 0:00:01\r\u001b[K     |████████████████▏               | 40 kB 8.8 MB/s eta 0:00:01\r\u001b[K     |████████████████████▏           | 51 kB 5.2 MB/s eta 0:00:01\r\u001b[K     |████████████████████████▎       | 61 kB 5.3 MB/s eta 0:00:01\r\u001b[K     |████████████████████████████▎   | 71 kB 5.4 MB/s eta 0:00:01\r\u001b[K     |████████████████████████████████| 81 kB 3.8 MB/s \n",
            "\u001b[?25hCollecting sgmllib3k\n",
            "  Downloading sgmllib3k-1.0.0.tar.gz (5.8 kB)\n",
            "Building wheels for collected packages: sgmllib3k\n",
            "  Building wheel for sgmllib3k (setup.py) ... \u001b[?25l\u001b[?25hdone\n",
            "  Created wheel for sgmllib3k: filename=sgmllib3k-1.0.0-py3-none-any.whl size=6065 sha256=39445687c8b65ea0dfba7740403e36694527e5d91d9fcc2f24dac67479ac82d8\n",
            "  Stored in directory: /root/.cache/pip/wheels/73/ad/a4/0dff4a6ef231fc0dfa12ffbac2a36cebfdddfe059f50e019aa\n",
            "Successfully built sgmllib3k\n",
            "Installing collected packages: sgmllib3k, feedparser\n",
            "Successfully installed feedparser-6.0.8 sgmllib3k-1.0.0\n"
          ]
        }
      ]
    },
    {
      "cell_type": "code",
      "metadata": {
        "colab": {
          "base_uri": "https://localhost:8080/"
        },
        "id": "pweII4FrPAgV",
        "outputId": "98a19d85-8810-4b36-fb86-dc6b97f35487"
      },
      "source": [
        "######## BASIC WORKING EXAMPLE 1 \n",
        "NewsFeed = feedparser.parse(\"https://inciweb.nwcg.gov/feeds/rss/incidents/\")\n",
        "\n",
        "\n",
        "##Run this as an example to see what is going on:\n",
        "first_entry = NewsFeed.entries[0]  #\"NewsFeed\" is a list of dictionaries, we want the first dictionary\n",
        "print(first_entry.keys()) #Show the keys of the dictionary\n",
        "##After running the above, we should see that the keys are:\n",
        "\n",
        "##['title', 'title_detail', 'published', 'published_parsed', \n",
        "##'where', 'geo_lat', 'geo_long', 'links', 'link', 'id', \n",
        "##'guidislink', 'summary', 'summary_detail'])\n"
      ],
      "execution_count": 4,
      "outputs": [
        {
          "output_type": "stream",
          "name": "stdout",
          "text": [
            "dict_keys(['title', 'title_detail', 'published', 'published_parsed', 'where', 'geo_lat', 'geo_long', 'links', 'link', 'id', 'guidislink', 'summary', 'summary_detail'])\n"
          ]
        }
      ]
    },
    {
      "cell_type": "code",
      "metadata": {
        "colab": {
          "base_uri": "https://localhost:8080/"
        },
        "id": "4PnFFs0yPFCB",
        "outputId": "3b830bf1-72f8-46b4-ce24-5f812822f6f1"
      },
      "source": [
        "######## BASIC WORKING EXAMPLE 2\n",
        "# #As example, SNRA lat long @ alturas trailhead and see what incidents are nearby\n",
        "target_lat = 43.89798 \n",
        "target_long = -114.90373\n",
        "target_coords = (target_lat,target_long)\n",
        "\n",
        "for entry_number, entry in enumerate(NewsFeed.entries):\n",
        "    #print(entry_number)\n",
        "    #print(entry['geo_lat'])\n",
        "    #print(entry['published'])\n",
        "    #print(entry['geo_long'])\n",
        "    incident_coords = (entry['geo_lat'],entry['geo_long'])\n",
        "\n",
        "    distance_km = geopy.distance.distance(target_coords, incident_coords).km\n",
        "    distance_miles = distance_km*0.621371\n",
        "    if distance_miles <= 70:\n",
        "      print(\"Incident {} is {:.2f} miles away\".format(entry['title'],distance_miles))\n",
        "\n"
      ],
      "execution_count": 6,
      "outputs": [
        {
          "output_type": "stream",
          "name": "stdout",
          "text": [
            "Incident Jakes Gulch (Wildfire) is 3.99 miles away\n",
            "Incident Scarface Fire (Wildfire) is 54.41 miles away\n",
            "Incident Boundary Fire (Wildfire) is 48.57 miles away\n",
            "Incident Deer Fire (Wildfire) is 53.65 miles away\n"
          ]
        }
      ]
    },
    {
      "cell_type": "code",
      "metadata": {
        "id": "DdrXzjvoPcyM"
      },
      "source": [
        "######## BASIC WORKING EXAMPLE 3\n",
        "# Now lets wrap this up into a function\n",
        "\n",
        "def GetFiresCloseTo(target_lat=44.5902,target_long=104.7146,incident_radius_miles=50):\n",
        "    NewsFeed = feedparser.parse(\"https://inciweb.nwcg.gov/feeds/rss/incidents/\")\n",
        "    \n",
        "    target_coords = (target_lat,target_long)\n",
        "\n",
        "    entries_within_radius = []\n",
        "    for entry_number, entry in enumerate(NewsFeed.entries):\n",
        "        incident_coords = (entry['geo_lat'],entry['geo_long'])\n",
        "        distance_km = geopy.distance.distance(target_coords, incident_coords).km\n",
        "        distance_miles = distance_km*0.621371\n",
        "        if distance_miles <= incident_radius_miles:\n",
        "            entry['distance_miles'] = distance_miles\n",
        "            entries_within_radius.append(entry)\n",
        "\n",
        "    sorted_entries_within_radius = sorted(entries_within_radius, key = lambda i: i['distance_miles'])\n",
        "\n",
        "    return sorted_entries_within_radius"
      ],
      "execution_count": 7,
      "outputs": []
    },
    {
      "cell_type": "code",
      "metadata": {
        "colab": {
          "base_uri": "https://localhost:8080/"
        },
        "id": "GxCdwsBGPh6w",
        "outputId": "9fd7a722-7de6-4beb-af7c-5ccd1e90d0a0"
      },
      "source": [
        "# We will use SNRA again and get a list returned of incidents with the specified radius\n",
        "target_lat_1 = 43.89798 \n",
        "target_long_1 = -114.90373\n",
        "incident_radius_miles_1 = 10\n",
        "sorted_entries_within_radius = GetFiresCloseTo(target_lat=target_lat_1,\n",
        "                                                target_long=target_long_1,\n",
        "                                                incident_radius_miles=incident_radius_miles_1)\n",
        "\n",
        "#Now, lets print those out. We can put this script on a server, and have it send emails instead of printing out results.\n",
        "if not sorted_entries_within_radius: #i.e. if there are no entries within the defined radius:\n",
        "    print(\"No incidents have been reported within a radius of {} miles of ({},{})\".format(incident_radius_miles_1,\n",
        "            target_lat_1,target_long_1))\n",
        "else:\n",
        "    for entry in sorted_entries_within_radius:\n",
        "        print(\"\\nIncident found {:.2f} miles from target location\\n\".format(entry['distance_miles']))\n",
        "        print(\"Incident Name: {}\\n\".format(entry['title']))\n",
        "        print(\"Date Published: {}\\n\".format(entry['published']))\n",
        "        print(\"Latitude: {} Longitude : {}\\n\".format(entry['geo_lat'],entry['geo_long']))\n",
        "        print(\"Incident Summary: {} \\n \\n\".format(entry['summary']))\n"
      ],
      "execution_count": 8,
      "outputs": [
        {
          "output_type": "stream",
          "name": "stdout",
          "text": [
            "\n",
            "Incident found 3.99 miles from target location\n",
            "\n",
            "Incident Name: Jakes Gulch (Wildfire)\n",
            "\n",
            "Date Published: Sat, 11 Sep 2021 11:21:27 -05:00\n",
            "\n",
            "Latitude: 43.8575 Longitude : -114.96083333333\n",
            "\n",
            "Incident Summary: Low RH and increased winds contributed to the fire kicking up a little yesterday. There was some group tree torching as well as short range spotting that jumped over the containment lines. There was about a 40 acre increase and between the growth and the fact it jumped the containment line it brings containment back to 0%. The fire moved to the west toward the head water of the north fork of Ross Creek, away from any structures. A type 3 helicopter arrived on the fire yesterday bringing the total to 6 helicopters, 2 seats and 2 type 1 airtankers. Another type 3 incident command team was ordered but none were available. There are still a lot of fires burning in the west and it is hard to get teams, crews and equipment. However, a type 2 team was available, so they were ordered and will be here on Saturday unless a larger fire needs them more. More resources have been ordered. Today high winds are expected from passing storm fronts. There is a red flag warning from noon until 10 pm,... \n",
            " \n",
            "\n"
          ]
        }
      ]
    }
  ]
}